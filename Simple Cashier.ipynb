{
 "cells": [
  {
   "cell_type": "code",
   "execution_count": 2,
   "id": "509ed19b",
   "metadata": {},
   "outputs": [
    {
     "name": "stdout",
     "output_type": "stream",
     "text": [
      "Total Amount: 778\n",
      "Enter No. of 100s Note: 7\n",
      "Enter No. of 50s Note: 5\n",
      "Enter No. of 20s Note: 5\n",
      "Enter No. of 10s Note: 0\n",
      "Enter No. of 5s Note: 0\n",
      "Enter No. of 1s Note: 1\n",
      "Balance to be returned: 273\n"
     ]
    }
   ],
   "source": [
    "def get_amount_input(prompt):\n",
    "    while True:\n",
    "        try:\n",
    "            return int(input(prompt))\n",
    "        except ValueError:\n",
    "            print(\"Invalid input. Please enter a valid integer.\")\n",
    "\n",
    "# Input for bill amount\n",
    "bill_amt = get_amount_input(\"Total  Amount: \")\n",
    "\n",
    "# Input for money given by customer\n",
    "note_100 = get_amount_input(\"Enter No. of 100s Note: \")\n",
    "note_50 = get_amount_input(\"Enter No. of 50s Note: \")\n",
    "note_20 = get_amount_input(\"Enter No. of 20s Note: \")\n",
    "note_10 = get_amount_input(\"Enter No. of 10s Note: \")\n",
    "note_5 = get_amount_input(\"Enter No. of 5s Note: \")\n",
    "note_1 = get_amount_input(\"Enter No. of 1s Note: \")\n",
    "\n",
    "# Calculate total money given by customer\n",
    "t_cx_amt = 100 * note_100 + 50 * note_50 + 20 * note_20 + 10 * note_10 + 5 * note_5 + 1 * note_1\n",
    "\n",
    "# Calculate balance to be returned, defaulting to zero if amount is negative\n",
    "bal_to_ret = max(0, t_cx_amt - bill_amt)\n",
    "\n",
    "print(\"Balance to be returned:\", bal_to_ret)\n"
   ]
  },
  {
   "cell_type": "code",
   "execution_count": null,
   "id": "96d121a2",
   "metadata": {},
   "outputs": [],
   "source": []
  }
 ],
 "metadata": {
  "kernelspec": {
   "display_name": "Python 3 (ipykernel)",
   "language": "python",
   "name": "python3"
  },
  "language_info": {
   "codemirror_mode": {
    "name": "ipython",
    "version": 3
   },
   "file_extension": ".py",
   "mimetype": "text/x-python",
   "name": "python",
   "nbconvert_exporter": "python",
   "pygments_lexer": "ipython3",
   "version": "3.11.5"
  }
 },
 "nbformat": 4,
 "nbformat_minor": 5
}
